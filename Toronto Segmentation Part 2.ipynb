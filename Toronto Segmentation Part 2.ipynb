{
    "cells": [
        {
            "cell_type": "code",
            "execution_count": 1,
            "metadata": {},
            "outputs": [
                {
                    "data": {
                        "text/plain": "103"
                    },
                    "execution_count": 1,
                    "metadata": {},
                    "output_type": "execute_result"
                }
            ],
            "source": "import pandas as pd\nimport numpy as np\nimport requests\n\nfrom bs4 import BeautifulSoup\n\n\nsource = requests.get('https://en.wikipedia.org/wiki/List_of_postal_codes_of_Canada:_M').text\n\nsoup = BeautifulSoup(source, 'html5lib')\n\npostal_codes_dict = {} # initialize an empty dictionary to save the data in\nfor table_cell in soup.find_all('td'):\n    try:\n        postal_code = table_cell.p.b.text # get the postal code\n        postal_code_investigate = table_cell.span.text\n        neighborhoods_data = table_cell.span.text # get the rest of the data in the cell\n        borough = neighborhoods_data.split('(')[0] # get the borough in the cell\n        \n        # if the cell is not assigned then ignore it\n        if neighborhoods_data == 'Not assigned':\n            neighborhoods = []\n        # else process the data and add it to the dictionary\n        else:\n            postal_codes_dict[postal_code] = {}\n            \n            try:\n                neighborhoods = neighborhoods_data.split('(')[1]\n            \n                # remove parantheses from neighborhoods string\n                neighborhoods = neighborhoods.replace('(', ' ')\n                neighborhoods = neighborhoods.replace(')', ' ')\n\n                neighborhoods_names = neighborhoods.split('/')\n                neighborhoods_clean = ', '.join([name.strip() for name in neighborhoods_names])\n            except:\n                borough = borough.strip('\\n')\n                neighborhoods_clean = borough\n \n            # add borough and neighborhood to dictionary\n            postal_codes_dict[postal_code]['borough'] = borough\n            postal_codes_dict[postal_code]['neighborhoods'] = neighborhoods_clean\n    except:\n        pass\n    \n# create an empty dataframe\ncolumns = ['PostalCode', 'Borough', 'Neighborhood']\ntoronto_data = pd.DataFrame(columns=columns)\ntoronto_data\n\n# populate dataframe with data from dictionary\nfor ind, postal_code in enumerate(postal_codes_dict):\n    borough = postal_codes_dict[postal_code]['borough']\n    neighborhood = postal_codes_dict[postal_code]['neighborhoods']\n    toronto_data = toronto_data.append({\"PostalCode\": postal_code, \n                                        \"Borough\": borough, \n                                        \"Neighborhood\": neighborhood},\n                                        ignore_index=True)\n\n# print number of rows of dataframe\ntoronto_data.shape[0]"
        },
        {
            "cell_type": "code",
            "execution_count": 2,
            "metadata": {},
            "outputs": [],
            "source": "coord_data =  pd.read_csv('https://cf-courses-data.s3.us.cloud-object-storage.appdomain.cloud/IBMDeveloperSkillsNetwork-DS0701EN-SkillsNetwork/labs_v1/Geospatial_Coordinates.csv', \n                            encoding = \"ISO-8859-1\")"
        },
        {
            "cell_type": "code",
            "execution_count": 3,
            "metadata": {},
            "outputs": [
                {
                    "data": {
                        "text/html": "<div>\n<style scoped>\n    .dataframe tbody tr th:only-of-type {\n        vertical-align: middle;\n    }\n\n    .dataframe tbody tr th {\n        vertical-align: top;\n    }\n\n    .dataframe thead th {\n        text-align: right;\n    }\n</style>\n<table border=\"1\" class=\"dataframe\">\n  <thead>\n    <tr style=\"text-align: right;\">\n      <th></th>\n      <th>PostalCode</th>\n      <th>Borough</th>\n      <th>Neighborhood</th>\n      <th>Latitude</th>\n      <th>Longitude</th>\n    </tr>\n  </thead>\n  <tbody>\n    <tr>\n      <th>0</th>\n      <td>M3A</td>\n      <td>North York</td>\n      <td>Parkwoods</td>\n      <td>43.753259</td>\n      <td>-79.329656</td>\n    </tr>\n    <tr>\n      <th>1</th>\n      <td>M4A</td>\n      <td>North York</td>\n      <td>Victoria Village</td>\n      <td>43.725882</td>\n      <td>-79.315572</td>\n    </tr>\n    <tr>\n      <th>2</th>\n      <td>M5A</td>\n      <td>Downtown Toronto</td>\n      <td>Regent Park, Harbourfront</td>\n      <td>43.654260</td>\n      <td>-79.360636</td>\n    </tr>\n    <tr>\n      <th>3</th>\n      <td>M6A</td>\n      <td>North York</td>\n      <td>Lawrence Manor, Lawrence Heights</td>\n      <td>43.718518</td>\n      <td>-79.464763</td>\n    </tr>\n    <tr>\n      <th>4</th>\n      <td>M7A</td>\n      <td>Queen's Park</td>\n      <td>Ontario Provincial Government</td>\n      <td>43.662301</td>\n      <td>-79.389494</td>\n    </tr>\n    <tr>\n      <th>...</th>\n      <td>...</td>\n      <td>...</td>\n      <td>...</td>\n      <td>...</td>\n      <td>...</td>\n    </tr>\n    <tr>\n      <th>98</th>\n      <td>M8X</td>\n      <td>Etobicoke</td>\n      <td>The Kingsway, Montgomery Road, Old Mill North</td>\n      <td>43.653654</td>\n      <td>-79.506944</td>\n    </tr>\n    <tr>\n      <th>99</th>\n      <td>M4Y</td>\n      <td>Downtown Toronto</td>\n      <td>Church and Wellesley</td>\n      <td>43.665860</td>\n      <td>-79.383160</td>\n    </tr>\n    <tr>\n      <th>100</th>\n      <td>M7Y</td>\n      <td>East TorontoBusiness reply mail Processing Cen...</td>\n      <td>Enclave of M4L</td>\n      <td>43.662744</td>\n      <td>-79.321558</td>\n    </tr>\n    <tr>\n      <th>101</th>\n      <td>M8Y</td>\n      <td>Etobicoke</td>\n      <td>Old Mill South, King's Mill Park, Sunnylea, Hu...</td>\n      <td>43.636258</td>\n      <td>-79.498509</td>\n    </tr>\n    <tr>\n      <th>102</th>\n      <td>M8Z</td>\n      <td>Etobicoke</td>\n      <td>Mimico NW, The Queensway West, South of Bloor,...</td>\n      <td>43.628841</td>\n      <td>-79.520999</td>\n    </tr>\n  </tbody>\n</table>\n<p>103 rows \u00d7 5 columns</p>\n</div>",
                        "text/plain": "    PostalCode                                            Borough  \\\n0          M3A                                         North York   \n1          M4A                                         North York   \n2          M5A                                   Downtown Toronto   \n3          M6A                                         North York   \n4          M7A                                       Queen's Park   \n..         ...                                                ...   \n98         M8X                                          Etobicoke   \n99         M4Y                                   Downtown Toronto   \n100        M7Y  East TorontoBusiness reply mail Processing Cen...   \n101        M8Y                                          Etobicoke   \n102        M8Z                                          Etobicoke   \n\n                                          Neighborhood   Latitude  Longitude  \n0                                            Parkwoods  43.753259 -79.329656  \n1                                     Victoria Village  43.725882 -79.315572  \n2                            Regent Park, Harbourfront  43.654260 -79.360636  \n3                     Lawrence Manor, Lawrence Heights  43.718518 -79.464763  \n4                        Ontario Provincial Government  43.662301 -79.389494  \n..                                                 ...        ...        ...  \n98       The Kingsway, Montgomery Road, Old Mill North  43.653654 -79.506944  \n99                                Church and Wellesley  43.665860 -79.383160  \n100                                     Enclave of M4L  43.662744 -79.321558  \n101  Old Mill South, King's Mill Park, Sunnylea, Hu...  43.636258 -79.498509  \n102  Mimico NW, The Queensway West, South of Bloor,...  43.628841 -79.520999  \n\n[103 rows x 5 columns]"
                    },
                    "execution_count": 3,
                    "metadata": {},
                    "output_type": "execute_result"
                }
            ],
            "source": "coord_2data = coord_data.rename(columns = {'Postal Code': 'PostalCode'}, inplace = False)\n\ntoronto_coord_data = pd.merge(toronto_data,coord_2data, on='PostalCode')\n\ntoronto_coord_data"
        },
        {
            "cell_type": "code",
            "execution_count": null,
            "metadata": {},
            "outputs": [],
            "source": ""
        }
    ],
    "metadata": {
        "kernelspec": {
            "display_name": "Python 3.7",
            "language": "python",
            "name": "python3"
        },
        "language_info": {
            "codemirror_mode": {
                "name": "ipython",
                "version": 3
            },
            "file_extension": ".py",
            "mimetype": "text/x-python",
            "name": "python",
            "nbconvert_exporter": "python",
            "pygments_lexer": "ipython3",
            "version": "3.7.10"
        }
    },
    "nbformat": 4,
    "nbformat_minor": 1
}