{
    "cells": [
        {
            "cell_type": "markdown",
            "metadata": {
                "collapsed": true
            },
            "source": "# Restaurant Opening"
        },
        {
            "cell_type": "markdown",
            "metadata": {},
            "source": "Business Problem"
        },
        {
            "cell_type": "markdown",
            "metadata": {},
            "source": "One of my friend is planing to open a restaurant in Toronto and asked my opinion where should she open it. She have some concerns about the locatition where she should open the restaurant because she doesn't have any other capital to close and open on another location. The opening has to be perfect.\n\nI suggested her that we should look the city data and consider the results to give us idea.\n\nBy segmenting neighborhoods of Toronto by the number of existing food and drink locations we could try to determine current competition level. It would be wise to narrow down our choises by trying to focus on neighborhoods with low level of competition.\n\nIn order to that we will try to get neighborhood data from Wikipedia web site and enrich the data with foursquare venue data."
        },
        {
            "cell_type": "code",
            "execution_count": null,
            "metadata": {},
            "outputs": [],
            "source": ""
        }
    ],
    "metadata": {
        "kernelspec": {
            "display_name": "Python 3.7",
            "language": "python",
            "name": "python3"
        },
        "language_info": {
            "codemirror_mode": {
                "name": "ipython",
                "version": 3
            },
            "file_extension": ".py",
            "mimetype": "text/x-python",
            "name": "python",
            "nbconvert_exporter": "python",
            "pygments_lexer": "ipython3",
            "version": "3.7.10"
        }
    },
    "nbformat": 4,
    "nbformat_minor": 1
}